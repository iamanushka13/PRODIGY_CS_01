{
  "nbformat": 4,
  "nbformat_minor": 0,
  "metadata": {
    "colab": {
      "provenance": []
    },
    "kernelspec": {
      "name": "python3",
      "display_name": "Python 3"
    },
    "language_info": {
      "name": "python"
    }
  },
  "cells": [
    {
      "cell_type": "code",
      "source": [
        "# Caesar Cipher Program\n",
        "# Task 1 – Cybersecurity Internship @ProdigyInfotech\n",
        "# Developed by Anushka Kudu\n",
        "# Description: Encrypts and decrypts messages using Caesar Cipher with user-defined shift\n",
        "\n",
        "# Caesar Cipher - Encryption Function\n",
        "def caesar_cipher_encrypt(text, shift):\n",
        "  result=\"\"\n",
        "  for char in text:\n",
        "    if char.isalpha():\n",
        "      if char.isupper():\n",
        "        start=ord('A')\n",
        "      else:\n",
        "        start=ord('a')\n",
        "      new_char=chr((ord(char)-start+shift)%26+start)\n",
        "      result+=new_char\n",
        "    else:\n",
        "      result+=char\n",
        "  return result\n",
        "\n",
        "# Caesar Cipher - Decryption Function\n",
        "def caesar_cipher_decrypt(text, shift):\n",
        "  return caesar_cipher_encrypt(text,-shift)\n",
        "\n",
        "# Main Function\n",
        "def main():\n",
        "  print(\"CAESAR CIPHER PROGRAM\")\n",
        "  choice = input(\"Do you want to encrypt or decrypt (E/D): \").strip().upper()\n",
        "  message = input(\"Enter your message: \")\n",
        "  try:\n",
        "    shift = int(input(\"Enter shift value(0-25): \"))\n",
        "  except ValueError:\n",
        "    print(\"Invalid Number for shift!!\")\n",
        "    return\n",
        "  if choice=='E':\n",
        "    encrypted = caesar_cipher_encrypt(message, shift)\n",
        "    print(\"Encrypted message: \", encrypted)\n",
        "  elif choice=='D':\n",
        "    decrypted = caesar_cipher_decrypt(message, shift)\n",
        "    print(\"Decrypted message: \", decrypted)\n",
        "  else:\n",
        "    print(\"Invalid Choice!! Enter E or D\")\n",
        "\n",
        "main()"
      ],
      "metadata": {
        "colab": {
          "base_uri": "https://localhost:8080/"
        },
        "id": "bOo09o1hdUbL",
        "outputId": "5c138900-9516-42af-eb66-226f7bcc3c4e"
      },
      "execution_count": null,
      "outputs": [
        {
          "output_type": "stream",
          "name": "stdout",
          "text": [
            "CAESAR CIPHER PROGRAM\n",
            "Do you want to encrypt or decrypt (E/D): E\n",
            "Enter your message: Secret Message 101!\n",
            "Enter shift value(0-25): 4\n",
            "Encrypted message:  Wigvix Qiwweki 101!\n"
          ]
        }
      ]
    }
  ]
}